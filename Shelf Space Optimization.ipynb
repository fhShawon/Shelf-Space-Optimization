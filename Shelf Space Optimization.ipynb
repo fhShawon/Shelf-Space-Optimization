{
 "cells": [
  {
   "cell_type": "code",
   "execution_count": 1,
   "metadata": {},
   "outputs": [],
   "source": [
    "import pandas as pd\n",
    "import numpy as np\n",
    "import math\n",
    "from math import isnan\n",
    "from pulp import *\n",
    "from collections import Counter\n",
    "from more_itertools import unique_everseen"
   ]
  },
  {
   "cell_type": "code",
   "execution_count": 2,
   "metadata": {},
   "outputs": [],
   "source": [
    "sales=pd.read_csv(\"sales_list_201636022.csv\",header=None) #input file\n",
    "lift=sales.iloc[2:,1:]\n",
    "lift=np.array(lift)\n",
    "lift = lift.astype(np.int) # read the lifts from csv\n",
    "brands=sales.iloc[0:1,:]\n",
    "brands=np.array(brands)\n",
    "brands=np.delete(brands,0)\n",
    "brands=brands.tolist()  # read the brands from csv\n",
    "ff=Counter(brands)\n",
    "all_brands=ff.items()"
   ]
  },
  {
   "cell_type": "code",
   "execution_count": 3,
   "metadata": {
    "scrolled": false
   },
   "outputs": [],
   "source": [
    "# the racks and the shelfs available\n",
    "rack_shelf=[[1,1,2,3],[2,4,5,6],[3,7,8,9,10]]"
   ]
  },
  {
   "cell_type": "code",
   "execution_count": 4,
   "metadata": {},
   "outputs": [],
   "source": [
    "#define the optimization function\n",
    "prob=LpProblem(\"SO\",LpMaximize)"
   ]
  },
  {
   "cell_type": "code",
   "execution_count": 5,
   "metadata": {},
   "outputs": [],
   "source": [
    "#define decision variables\n",
    "dec_var=LpVariable.matrix(\"dec_var\",(range(len(lift)),range(len(lift[0]))),0,1,LpBinary)"
   ]
  },
  {
   "cell_type": "code",
   "execution_count": 6,
   "metadata": {},
   "outputs": [],
   "source": [
    "#Compute the sum product of decision variables and lifts\n",
    "prodt_matrix=[dec_var[i][j]*lift[i][j] for i in range(len(lift))\n",
    "for j in range(len(lift[0]))]"
   ]
  },
  {
   "cell_type": "code",
   "execution_count": 7,
   "metadata": {},
   "outputs": [],
   "source": [
    "#total lift which has to be maximized sum(prodt_matrix)\n",
    "#define the objective function\n",
    "prob+=lpSum(prodt_matrix)\n",
    "order=list(unique_everseen(brands))\n",
    "order_map = {}\n",
    "for pos, item in enumerate(order):\n",
    "    order_map[item] = pos"
   ]
  },
  {
   "cell_type": "code",
   "execution_count": 8,
   "metadata": {},
   "outputs": [],
   "source": [
    "#brands in order as in input file\n",
    "brands_lift=sorted(all_brands, key=lambda x: order_map[x[0]])"
   ]
  },
  {
   "cell_type": "markdown",
   "metadata": {},
   "source": [
    "DEFINE CONSTRAINTS\n",
    "1) Each shelf can have only one product i.e. sum (each row)<=1"
   ]
  },
  {
   "cell_type": "code",
   "execution_count": 9,
   "metadata": {},
   "outputs": [],
   "source": [
    "for i in range(len(lift)):\n",
    "    prob+=lpSum(dec_var[i])<=1"
   ]
  },
  {
   "cell_type": "markdown",
   "metadata": {},
   "source": [
    "2) Each product can be displayed only on a limited number of shelves i.e. Column constraints\n",
    "Constraints are given as"
   ]
  },
  {
   "cell_type": "code",
   "execution_count": 10,
   "metadata": {},
   "outputs": [],
   "source": [
    "col_con=[1,0,0,2,2,3,1,1]\n",
    "dec_var=np.array(dec_var)\n",
    "col_data=[]\n",
    "for j in range(len(brands)):\n",
    "    col_data.append(list(zip(*dec_var))[j])\n",
    "    prob+=lpSum(col_data[j])<=col_con[j]"
   ]
  },
  {
   "cell_type": "code",
   "execution_count": 11,
   "metadata": {},
   "outputs": [],
   "source": [
    "#write the problem\n",
    "prob.writeLP(\"SO.lp\")"
   ]
  },
  {
   "cell_type": "code",
   "execution_count": 12,
   "metadata": {},
   "outputs": [
    {
     "name": "stdout",
     "output_type": "stream",
     "text": [
      "The maximum Total lift obtained is: 4176.0\n"
     ]
    }
   ],
   "source": [
    "#solve the problem\n",
    "prob.solve()\n",
    "print(\"The maximum Total lift obtained is:\",value(prob.objective)) # print the output"
   ]
  },
  {
   "cell_type": "code",
   "execution_count": 13,
   "metadata": {},
   "outputs": [
    {
     "name": "stdout",
     "output_type": "stream",
     "text": [
      "The decision variable matrix is:\n",
      "[[0 0 0 1 0 0 0 0]\n",
      " [0 0 0 1 0 0 0 0]\n",
      " [0 0 0 0 0 0 1 0]\n",
      " [0 0 0 0 1 0 0 0]\n",
      " [0 0 0 0 1 0 0 0]\n",
      " [1 0 0 0 0 0 0 0]\n",
      " [0 0 0 0 0 0 0 1]\n",
      " [0 0 0 0 0 1 0 0]\n",
      " [0 0 0 0 0 1 0 0]\n",
      " [0 0 0 0 0 1 0 0]]\n"
     ]
    }
   ],
   "source": [
    "#print the decision variable output matrix\n",
    "Matrix=[[0 for X in range(len(lift[0]))] for y in range(len(lift))]\n",
    "for v in prob.variables():\n",
    "    Matrix[int(v.name.split(\"_\")[2])][int(v.name.split(\"_\")[3])]=v.varValue\n",
    "    matrix=np.int_(Matrix)\n",
    "print (\"The decision variable matrix is:\")\n",
    "print(matrix)"
   ]
  }
 ],
 "metadata": {
  "kernelspec": {
   "display_name": "Python 3",
   "language": "python",
   "name": "python3"
  },
  "language_info": {
   "codemirror_mode": {
    "name": "ipython",
    "version": 3
   },
   "file_extension": ".py",
   "mimetype": "text/x-python",
   "name": "python",
   "nbconvert_exporter": "python",
   "pygments_lexer": "ipython3",
   "version": "3.6.4"
  }
 },
 "nbformat": 4,
 "nbformat_minor": 2
}
